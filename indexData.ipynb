{
 "cells": [
  {
   "cell_type": "code",
   "execution_count": 1,
   "metadata": {},
   "outputs": [],
   "source": [
    "from elasticsearch import Elasticsearch"
   ]
  },
  {
   "cell_type": "code",
   "execution_count": 10,
   "metadata": {},
   "outputs": [
    {
     "data": {
      "text/plain": [
       "True"
      ]
     },
     "execution_count": 10,
     "metadata": {},
     "output_type": "execute_result"
    }
   ],
   "source": [
    "## connect to the elasti search with python\n",
    "\n",
    "es = Elasticsearch(\n",
    "    \"https://localhost:9200\",\n",
    "    basic_auth=(\"elastic\", \"iiGa0a1_zTfj8ijJPksW\"),\n",
    "    ca_certs= \"E:\\\\DLytica_train\\\\semantic_search_engine\\\\elasticsearch-8.15.2\\\\config\\\\certs\\\\http_ca.crt\"           \n",
    "    ## authentication certificate : present in the config directory of elasticsearch-unzip folder\n",
    ")\n",
    "\n",
    "es.ping()\n",
    "##   if ping is \"TURE\" connection established successfully\n",
    "\n"
   ]
  },
  {
   "cell_type": "markdown",
   "metadata": {},
   "source": [
    "## Prepare the data"
   ]
  },
  {
   "cell_type": "code",
   "execution_count": 26,
   "metadata": {},
   "outputs": [
    {
     "data": {
      "text/html": [
       "<div>\n",
       "<style scoped>\n",
       "    .dataframe tbody tr th:only-of-type {\n",
       "        vertical-align: middle;\n",
       "    }\n",
       "\n",
       "    .dataframe tbody tr th {\n",
       "        vertical-align: top;\n",
       "    }\n",
       "\n",
       "    .dataframe thead th {\n",
       "        text-align: right;\n",
       "    }\n",
       "</style>\n",
       "<table border=\"1\" class=\"dataframe\">\n",
       "  <thead>\n",
       "    <tr style=\"text-align: right;\">\n",
       "      <th></th>\n",
       "      <th>link</th>\n",
       "      <th>product_title</th>\n",
       "      <th>price</th>\n",
       "      <th>actual_price</th>\n",
       "      <th>ratings</th>\n",
       "      <th>color</th>\n",
       "    </tr>\n",
       "  </thead>\n",
       "  <tbody>\n",
       "    <tr>\n",
       "      <th>0</th>\n",
       "      <td>https://www.daraz.com.np/products/dell-vostro-...</td>\n",
       "      <td>Dell Vostro 3520 i3 12th Gen | 16GB RAM | 512G...</td>\n",
       "      <td>Rs. 55,999</td>\n",
       "      <td>NaN</td>\n",
       "      <td>13 Ratings</td>\n",
       "      <td>Black</td>\n",
       "    </tr>\n",
       "    <tr>\n",
       "      <th>1</th>\n",
       "      <td>https://www.daraz.com.np/products/apple-macboo...</td>\n",
       "      <td>Apple MacBook Air 13-inch M1 256GB - Oliz Store</td>\n",
       "      <td>Rs. 109,900</td>\n",
       "      <td>Rs. 139,900</td>\n",
       "      <td>76 Ratings</td>\n",
       "      <td>Space Grey</td>\n",
       "    </tr>\n",
       "    <tr>\n",
       "      <th>2</th>\n",
       "      <td>https://www.daraz.com.np/products/dell-vostro-...</td>\n",
       "      <td>Dell Vostro 3520 i5 12th Gen | 16GB RAM | 512G...</td>\n",
       "      <td>Rs. 68,999</td>\n",
       "      <td>NaN</td>\n",
       "      <td>22 Ratings</td>\n",
       "      <td>Black</td>\n",
       "    </tr>\n",
       "    <tr>\n",
       "      <th>3</th>\n",
       "      <td>https://www.daraz.com.np/products/dell-vostro-...</td>\n",
       "      <td>Dell Vostro 3520 i5 12th Gen | 8GB RAM | 256GB...</td>\n",
       "      <td>Rs. 64,000</td>\n",
       "      <td>NaN</td>\n",
       "      <td>8 Ratings</td>\n",
       "      <td>Black</td>\n",
       "    </tr>\n",
       "    <tr>\n",
       "      <th>4</th>\n",
       "      <td>https://www.daraz.com.np/products/acer-nitro-v...</td>\n",
       "      <td>Acer Nitro V 15 i7 13th Gen 13620H | 16GB DDR5...</td>\n",
       "      <td>Rs. 137,999</td>\n",
       "      <td>NaN</td>\n",
       "      <td>2 Ratings</td>\n",
       "      <td>Black</td>\n",
       "    </tr>\n",
       "  </tbody>\n",
       "</table>\n",
       "</div>"
      ],
      "text/plain": [
       "                                                link  \\\n",
       "0  https://www.daraz.com.np/products/dell-vostro-...   \n",
       "1  https://www.daraz.com.np/products/apple-macboo...   \n",
       "2  https://www.daraz.com.np/products/dell-vostro-...   \n",
       "3  https://www.daraz.com.np/products/dell-vostro-...   \n",
       "4  https://www.daraz.com.np/products/acer-nitro-v...   \n",
       "\n",
       "                                       product_title        price  \\\n",
       "0  Dell Vostro 3520 i3 12th Gen | 16GB RAM | 512G...   Rs. 55,999   \n",
       "1    Apple MacBook Air 13-inch M1 256GB - Oliz Store  Rs. 109,900   \n",
       "2  Dell Vostro 3520 i5 12th Gen | 16GB RAM | 512G...   Rs. 68,999   \n",
       "3  Dell Vostro 3520 i5 12th Gen | 8GB RAM | 256GB...   Rs. 64,000   \n",
       "4  Acer Nitro V 15 i7 13th Gen 13620H | 16GB DDR5...  Rs. 137,999   \n",
       "\n",
       "  actual_price     ratings       color  \n",
       "0          NaN  13 Ratings       Black  \n",
       "1  Rs. 139,900  76 Ratings  Space Grey  \n",
       "2          NaN  22 Ratings       Black  \n",
       "3          NaN   8 Ratings       Black  \n",
       "4          NaN   2 Ratings       Black  "
      ]
     },
     "execution_count": 26,
     "metadata": {},
     "output_type": "execute_result"
    }
   ],
   "source": [
    "import pandas as pd\n",
    "\n",
    "df = pd.read_csv(\"laptop_data.csv\")\n",
    "df.head()\n",
    "\n",
    "## Here , i am trying to search Semantically the product_title\n",
    "# so lets convert the prodcut_title into vectors \n",
    "\n"
   ]
  },
  {
   "cell_type": "code",
   "execution_count": 37,
   "metadata": {},
   "outputs": [
    {
     "data": {
      "text/plain": [
       "link   product_title  price  actual_price  ratings  color\n",
       "False  False          False  True          False    False    364\n",
       "                             False         False    False    234\n",
       "                      True   True          False    False      1\n",
       "Name: count, dtype: int64"
      ]
     },
     "execution_count": 37,
     "metadata": {},
     "output_type": "execute_result"
    }
   ],
   "source": [
    "df.isna().value_counts()"
   ]
  },
  {
   "cell_type": "code",
   "execution_count": 40,
   "metadata": {},
   "outputs": [
    {
     "data": {
      "text/plain": [
       "link   product_title  price  actual_price  ratings  color\n",
       "False  False          False  False         False    False    599\n",
       "Name: count, dtype: int64"
      ]
     },
     "execution_count": 40,
     "metadata": {},
     "output_type": "execute_result"
    }
   ],
   "source": [
    "df = df.fillna(value = \"None\")\n",
    "df.isna().value_counts()"
   ]
  },
  {
   "cell_type": "markdown",
   "metadata": {},
   "source": [
    "## Converting fileds to Vector using BERT model\n"
   ]
  },
  {
   "cell_type": "code",
   "execution_count": 41,
   "metadata": {},
   "outputs": [
    {
     "name": "stderr",
     "output_type": "stream",
     "text": [
      "e:\\DLytica_train\\semantic_search_engine\\elastic_venv\\Lib\\site-packages\\transformers\\tokenization_utils_base.py:1617: FutureWarning: `clean_up_tokenization_spaces` was not set. It will be set to `True` by default. This behavior will be deprecated in transformers v4.45, and will be then set to `False` by default. For more details check this issue: https://github.com/huggingface/transformers/issues/31884\n",
      "  warnings.warn(\n"
     ]
    }
   ],
   "source": [
    "from sentence_transformers import SentenceTransformer\n",
    "\n",
    "model = SentenceTransformer(\"all-mpnet-base-v2\")\n",
    "\n",
    "## Loaded model description\n",
    "\n",
    "## Max Sequence Length:384\n",
    "## Dimensions:768\n",
    "## Normalized Embeddings:true\n",
    "## Suitable Score Functions:dot-product (util.dot_score), \n",
    "#                       cosine-similarity (util.cos_sim), \n",
    "#                       euclidean distance"
   ]
  },
  {
   "cell_type": "code",
   "execution_count": 42,
   "metadata": {},
   "outputs": [],
   "source": [
    "# convert the \"product_title\" field into the embedding vectors using pretraind BERT model \n",
    "# after the vectors are converted wriiting them to datafarme with label/id  - \"DescriptionVector\"\n",
    "\n",
    "df[\"DecriptionVector\"] = df[\"product_title\"].apply(lambda x: model.encode(x))"
   ]
  },
  {
   "cell_type": "code",
   "execution_count": 43,
   "metadata": {},
   "outputs": [
    {
     "data": {
      "text/html": [
       "<div>\n",
       "<style scoped>\n",
       "    .dataframe tbody tr th:only-of-type {\n",
       "        vertical-align: middle;\n",
       "    }\n",
       "\n",
       "    .dataframe tbody tr th {\n",
       "        vertical-align: top;\n",
       "    }\n",
       "\n",
       "    .dataframe thead th {\n",
       "        text-align: right;\n",
       "    }\n",
       "</style>\n",
       "<table border=\"1\" class=\"dataframe\">\n",
       "  <thead>\n",
       "    <tr style=\"text-align: right;\">\n",
       "      <th></th>\n",
       "      <th>link</th>\n",
       "      <th>product_title</th>\n",
       "      <th>price</th>\n",
       "      <th>actual_price</th>\n",
       "      <th>ratings</th>\n",
       "      <th>color</th>\n",
       "      <th>DecriptionVector</th>\n",
       "    </tr>\n",
       "  </thead>\n",
       "  <tbody>\n",
       "    <tr>\n",
       "      <th>0</th>\n",
       "      <td>https://www.daraz.com.np/products/dell-vostro-...</td>\n",
       "      <td>Dell Vostro 3520 i3 12th Gen | 16GB RAM | 512G...</td>\n",
       "      <td>Rs. 55,999</td>\n",
       "      <td>None</td>\n",
       "      <td>13 Ratings</td>\n",
       "      <td>Black</td>\n",
       "      <td>[-0.02164589, -0.033171486, -0.0061107734, 0.0...</td>\n",
       "    </tr>\n",
       "    <tr>\n",
       "      <th>1</th>\n",
       "      <td>https://www.daraz.com.np/products/apple-macboo...</td>\n",
       "      <td>Apple MacBook Air 13-inch M1 256GB - Oliz Store</td>\n",
       "      <td>Rs. 109,900</td>\n",
       "      <td>Rs. 139,900</td>\n",
       "      <td>76 Ratings</td>\n",
       "      <td>Space Grey</td>\n",
       "      <td>[-0.012230367, -0.009784535, -0.030027973, 0.0...</td>\n",
       "    </tr>\n",
       "    <tr>\n",
       "      <th>2</th>\n",
       "      <td>https://www.daraz.com.np/products/dell-vostro-...</td>\n",
       "      <td>Dell Vostro 3520 i5 12th Gen | 16GB RAM | 512G...</td>\n",
       "      <td>Rs. 68,999</td>\n",
       "      <td>None</td>\n",
       "      <td>22 Ratings</td>\n",
       "      <td>Black</td>\n",
       "      <td>[-0.021032594, -0.029408198, -0.007967253, 0.0...</td>\n",
       "    </tr>\n",
       "    <tr>\n",
       "      <th>3</th>\n",
       "      <td>https://www.daraz.com.np/products/dell-vostro-...</td>\n",
       "      <td>Dell Vostro 3520 i5 12th Gen | 8GB RAM | 256GB...</td>\n",
       "      <td>Rs. 64,000</td>\n",
       "      <td>None</td>\n",
       "      <td>8 Ratings</td>\n",
       "      <td>Black</td>\n",
       "      <td>[-0.021730883, -0.021214992, -0.007739092, 0.0...</td>\n",
       "    </tr>\n",
       "    <tr>\n",
       "      <th>4</th>\n",
       "      <td>https://www.daraz.com.np/products/acer-nitro-v...</td>\n",
       "      <td>Acer Nitro V 15 i7 13th Gen 13620H | 16GB DDR5...</td>\n",
       "      <td>Rs. 137,999</td>\n",
       "      <td>None</td>\n",
       "      <td>2 Ratings</td>\n",
       "      <td>Black</td>\n",
       "      <td>[-0.011995952, -0.0009470535, -0.0058524557, 0...</td>\n",
       "    </tr>\n",
       "  </tbody>\n",
       "</table>\n",
       "</div>"
      ],
      "text/plain": [
       "                                                link  \\\n",
       "0  https://www.daraz.com.np/products/dell-vostro-...   \n",
       "1  https://www.daraz.com.np/products/apple-macboo...   \n",
       "2  https://www.daraz.com.np/products/dell-vostro-...   \n",
       "3  https://www.daraz.com.np/products/dell-vostro-...   \n",
       "4  https://www.daraz.com.np/products/acer-nitro-v...   \n",
       "\n",
       "                                       product_title        price  \\\n",
       "0  Dell Vostro 3520 i3 12th Gen | 16GB RAM | 512G...   Rs. 55,999   \n",
       "1    Apple MacBook Air 13-inch M1 256GB - Oliz Store  Rs. 109,900   \n",
       "2  Dell Vostro 3520 i5 12th Gen | 16GB RAM | 512G...   Rs. 68,999   \n",
       "3  Dell Vostro 3520 i5 12th Gen | 8GB RAM | 256GB...   Rs. 64,000   \n",
       "4  Acer Nitro V 15 i7 13th Gen 13620H | 16GB DDR5...  Rs. 137,999   \n",
       "\n",
       "  actual_price     ratings       color  \\\n",
       "0         None  13 Ratings       Black   \n",
       "1  Rs. 139,900  76 Ratings  Space Grey   \n",
       "2         None  22 Ratings       Black   \n",
       "3         None   8 Ratings       Black   \n",
       "4         None   2 Ratings       Black   \n",
       "\n",
       "                                    DecriptionVector  \n",
       "0  [-0.02164589, -0.033171486, -0.0061107734, 0.0...  \n",
       "1  [-0.012230367, -0.009784535, -0.030027973, 0.0...  \n",
       "2  [-0.021032594, -0.029408198, -0.007967253, 0.0...  \n",
       "3  [-0.021730883, -0.021214992, -0.007739092, 0.0...  \n",
       "4  [-0.011995952, -0.0009470535, -0.0058524557, 0...  "
      ]
     },
     "execution_count": 43,
     "metadata": {},
     "output_type": "execute_result"
    }
   ],
   "source": [
    "df.head()"
   ]
  },
  {
   "cell_type": "code",
   "execution_count": 23,
   "metadata": {},
   "outputs": [
    {
     "data": {
      "text/plain": [
       "True"
      ]
     },
     "execution_count": 23,
     "metadata": {},
     "output_type": "execute_result"
    }
   ],
   "source": [
    "es.ping()"
   ]
  },
  {
   "cell_type": "markdown",
   "metadata": {},
   "source": [
    "## **Create new index in the Elastic search**"
   ]
  },
  {
   "cell_type": "code",
   "execution_count": 45,
   "metadata": {},
   "outputs": [
    {
     "data": {
      "text/plain": [
       "ObjectApiResponse({'acknowledged': True})"
      ]
     },
     "execution_count": 45,
     "metadata": {},
     "output_type": "execute_result"
    }
   ],
   "source": [
    "#to delete the created index in elastic search\n",
    "#  es.indices.delete(index=\"laptop_products\")"
   ]
  },
  {
   "cell_type": "code",
   "execution_count": 46,
   "metadata": {},
   "outputs": [
    {
     "data": {
      "text/plain": [
       "ObjectApiResponse({'acknowledged': True, 'shards_acknowledged': True, 'index': 'laptop_products'})"
      ]
     },
     "execution_count": 46,
     "metadata": {},
     "output_type": "execute_result"
    }
   ],
   "source": [
    "### ELASTIC SEARCH (json databaes) - take data input in format of JSON - convert dataframe(tabular) to JSON\n",
    "\n",
    "from indexMapping import indexMapping\n",
    "\n",
    "es.indices.create(index=\"laptop_products\", mappings=indexMapping)\n",
    "\n",
    "# creates the new index in ELASTIC SEARCH --if  ACK : TURE - index created successfully\n"
   ]
  },
  {
   "cell_type": "markdown",
   "metadata": {},
   "source": [
    "## **Ingest the data into index**\n",
    "    * convert tabular data to JSON\n",
    "    * ingest the data to elastic search index"
   ]
  },
  {
   "cell_type": "code",
   "execution_count": 47,
   "metadata": {},
   "outputs": [],
   "source": [
    "record_list = df.to_dict(\"records\")\n",
    "\n",
    "# converted data to JSON format"
   ]
  },
  {
   "cell_type": "code",
   "execution_count": 48,
   "metadata": {},
   "outputs": [
    {
     "data": {
      "text/plain": [
       "{'link': 'https://www.daraz.com.np/products/dell-vostro-3520-i3-12th-gen-16gb-ram-512gb-ssd-156-120hz-fhd-display-laptop-i129017788.html',\n",
       " 'product_title': 'Dell Vostro 3520 i3 12th Gen | 16GB RAM | 512GB SSD | 15.6\" 120Hz FHD Display Laptop',\n",
       " 'price': 'Rs. 55,999',\n",
       " 'actual_price': 'None',\n",
       " 'ratings': '13 Ratings',\n",
       " 'color': 'Black',\n",
       " 'DecriptionVector': array([-2.16458905e-02, -3.31714861e-02, -6.11077342e-03,  1.97077338e-02,\n",
       "         2.02681180e-02, -1.07456660e-02, -1.59642398e-02,  7.43361562e-02,\n",
       "        -6.68350458e-02, -2.11666524e-03, -4.73406576e-02, -3.79428603e-02,\n",
       "         2.02940311e-02,  1.04677200e-01, -8.83905683e-03,  2.61962395e-02,\n",
       "         4.27645259e-02, -7.46356603e-03, -6.44840598e-02, -1.51700722e-02,\n",
       "        -5.18629849e-02, -3.83023694e-02,  2.85153650e-02, -3.60783115e-02,\n",
       "        -4.36770171e-02, -2.44487207e-02, -4.49609756e-03,  2.04229094e-02,\n",
       "        -4.41121534e-02,  2.35450938e-02,  2.87339790e-04,  7.37686362e-03,\n",
       "         6.10066429e-02,  4.63647395e-02,  1.58551177e-06, -6.80327863e-02,\n",
       "        -4.24162038e-02, -8.99173261e-04, -2.94664521e-02,  6.08108714e-02,\n",
       "         3.29884514e-02,  2.59297453e-02, -8.74937978e-03, -2.34024245e-02,\n",
       "        -4.93152393e-03, -2.53790282e-02, -9.39540006e-03,  2.98111346e-02,\n",
       "        -4.81690885e-03,  3.00530382e-02, -3.10086105e-02,  2.09724195e-02,\n",
       "         4.54860963e-02, -1.00372098e-02, -4.37434018e-03, -2.48854849e-02,\n",
       "        -1.66148338e-02,  7.94856867e-04,  2.52341647e-02, -9.18634143e-03,\n",
       "        -2.14372762e-02, -2.43985342e-05, -1.47413313e-02,  3.44078541e-02,\n",
       "         5.63161820e-02, -1.80392936e-02,  8.05730298e-02, -3.04988585e-02,\n",
       "         3.20289247e-02, -3.04892585e-02,  2.68960353e-02,  5.50543740e-02,\n",
       "        -1.51798513e-03,  4.39548455e-02, -4.32212576e-02, -4.41084476e-03,\n",
       "        -1.26869697e-02,  4.11857478e-02, -6.26486987e-02, -5.35263754e-02,\n",
       "         3.62684652e-02, -7.39715155e-03,  3.62919420e-02, -5.30562550e-02,\n",
       "         6.14578351e-02,  5.59125328e-03,  3.84336943e-03, -1.50816739e-02,\n",
       "        -4.18124013e-02, -4.03561071e-03,  1.60999950e-02, -1.96299348e-02,\n",
       "         1.57815237e-02,  8.83374549e-03, -5.98569326e-02, -8.54920410e-03,\n",
       "        -4.58951034e-02, -5.20309014e-03, -3.22740935e-02, -1.96892340e-02,\n",
       "        -2.22503226e-02,  1.15803955e-03,  1.06899485e-01, -3.93791795e-02,\n",
       "         1.20906839e-02, -3.79252285e-02, -3.78176458e-02, -1.15341544e-02,\n",
       "        -3.29875126e-02,  6.41200766e-02,  2.80054286e-02, -4.49508652e-02,\n",
       "        -1.22765861e-02,  3.04046012e-02, -4.90523838e-02, -2.73737423e-02,\n",
       "        -2.44871508e-02,  9.59683582e-03,  9.75256786e-03,  5.37937470e-02,\n",
       "         4.93639112e-02, -1.69510376e-02,  8.03831145e-02,  1.38734234e-02,\n",
       "        -1.21916467e-02, -7.63932243e-03,  5.10267243e-02, -7.60907494e-03,\n",
       "         6.16443064e-03, -5.09000197e-02,  1.22035183e-02, -4.06014323e-02,\n",
       "         1.08472081e-02,  8.92413594e-03,  1.15668038e-02,  3.17387804e-02,\n",
       "        -1.76877622e-03,  1.26028769e-02, -1.95213836e-02,  1.18637607e-02,\n",
       "         2.15653665e-02, -1.21588912e-02, -1.69591196e-02, -1.86223947e-02,\n",
       "         2.94664642e-03,  1.93677600e-02,  3.86589430e-02,  8.99629742e-02,\n",
       "        -2.25785822e-02,  4.34461646e-02,  5.67332059e-02, -3.23575251e-02,\n",
       "        -8.57048389e-03,  5.95091283e-03, -3.30086388e-02,  3.86731885e-02,\n",
       "         2.97333114e-02, -3.51951905e-02,  4.38783169e-02,  1.09172679e-01,\n",
       "         4.99367043e-02,  3.58978212e-02, -6.22590445e-03,  2.18399838e-02,\n",
       "        -3.09159178e-02,  2.95854975e-02,  1.29418066e-02,  9.04941931e-03,\n",
       "        -3.15274447e-02, -1.86896194e-02,  2.02288926e-02, -4.24784096e-03,\n",
       "         4.54363115e-02,  2.64028460e-02,  2.71383999e-03, -2.50582416e-02,\n",
       "         6.58035232e-03,  5.09580132e-03, -5.89360707e-02,  4.95905727e-02,\n",
       "         2.20305175e-02, -9.45568308e-02, -1.64471455e-02,  6.37736917e-02,\n",
       "        -3.55436327e-03, -1.67845301e-02, -1.51560607e-03,  3.02120373e-02,\n",
       "        -8.06783792e-03, -2.59328284e-03, -4.18799892e-02, -3.81483138e-02,\n",
       "        -1.57908108e-02,  8.09927285e-02,  4.56613675e-02,  1.22026373e-02,\n",
       "        -2.70900410e-02, -2.13861894e-02, -8.15185811e-03, -2.15306692e-03,\n",
       "        -1.24772843e-02, -5.03268503e-02,  6.22100383e-02,  5.01179360e-02,\n",
       "        -9.65483487e-03, -2.00277437e-02,  7.93675520e-03,  3.55182774e-03,\n",
       "        -2.37728152e-02,  1.16331107e-03,  6.51941001e-02,  2.23140344e-02,\n",
       "         6.26305342e-02,  1.44552719e-02, -6.32374212e-02,  1.54933538e-02,\n",
       "         1.18588824e-02,  1.78369042e-02,  2.58264635e-02, -1.21705979e-02,\n",
       "         1.20509444e-02, -3.58784460e-02, -4.12176549e-02, -1.14997441e-03,\n",
       "         3.20994779e-02,  3.65484357e-02,  3.13633084e-02, -2.28401124e-02,\n",
       "        -5.48207574e-02, -6.26997277e-02,  4.34249565e-02,  3.84465903e-02,\n",
       "        -1.83225889e-02, -1.41379563e-02, -2.10174080e-02, -3.48519813e-03,\n",
       "        -4.96242642e-02, -2.77510174e-02, -2.84713618e-02,  6.90895170e-02,\n",
       "         1.14413826e-02, -1.09428382e-02, -1.88078638e-02, -3.65182720e-02,\n",
       "         4.69616987e-02, -7.35278800e-02, -1.10219657e-01,  2.34405994e-02,\n",
       "        -2.02280879e-02,  7.32791424e-03,  1.64126903e-02, -3.19466293e-02,\n",
       "        -1.41165471e-02,  2.33729519e-02,  6.48033479e-03, -6.69969572e-03,\n",
       "         9.35531314e-03,  2.84364466e-02, -5.83906472e-02, -8.94922540e-02,\n",
       "        -1.35265393e-02, -6.40383810e-02,  7.55823730e-03, -3.71826738e-02,\n",
       "        -3.55113274e-03,  7.95124215e-04,  2.12016702e-02,  4.30422463e-02,\n",
       "         3.51115167e-02,  3.17607373e-02,  3.12373950e-03,  1.28925666e-02,\n",
       "         3.38866822e-02,  3.07284985e-02,  1.56578107e-03,  3.84772033e-03,\n",
       "        -3.24531309e-02, -1.40618654e-02, -2.98035555e-02, -6.63629547e-02,\n",
       "         1.73150674e-02,  7.39728333e-03,  2.51439586e-02,  1.45869171e-02,\n",
       "        -1.46894471e-03, -8.67113704e-04, -2.67552887e-03, -2.95643602e-02,\n",
       "        -2.88904854e-03,  7.25885900e-03,  7.12914914e-02,  7.21961632e-03,\n",
       "         2.25912500e-03, -1.77006014e-02, -6.05750270e-03,  6.50393665e-02,\n",
       "         4.73386459e-02,  2.74600852e-02, -2.06227377e-02, -2.63906717e-02,\n",
       "         5.54965623e-03,  4.91234474e-03, -6.39490085e-03,  1.75071768e-02,\n",
       "         4.07651514e-02,  2.99134571e-02, -2.90883556e-02, -1.37521578e-02,\n",
       "        -2.56327301e-04,  2.65524210e-03,  2.21562665e-02,  1.09022222e-02,\n",
       "        -2.95438021e-02,  3.67402807e-02,  4.91230376e-03,  5.28823808e-02,\n",
       "        -1.29184714e-02,  3.59557122e-02,  4.35981117e-02,  8.01179335e-02,\n",
       "        -6.07287930e-03, -2.34418102e-02,  1.49137329e-03, -4.52917535e-03,\n",
       "         1.15865795e-02,  5.58512025e-02,  6.72895648e-03, -1.70695707e-02,\n",
       "        -5.88758551e-02, -2.14381479e-02, -6.46946579e-02, -4.58431095e-02,\n",
       "        -3.62182818e-02,  4.39285375e-02,  3.13113928e-02,  7.56403059e-03,\n",
       "        -5.21277413e-02,  1.72081143e-02,  4.65499312e-02,  2.91556632e-03,\n",
       "        -2.70387717e-02,  4.01687957e-02,  9.66650061e-03,  2.81967893e-02,\n",
       "        -2.13078205e-02, -3.60559896e-02, -1.30814658e-02, -3.11268438e-02,\n",
       "        -1.68930609e-02,  4.68116179e-02,  2.94224452e-02,  6.03472767e-03,\n",
       "        -9.57322959e-03,  3.00841425e-02, -1.90837514e-02, -1.02497628e-02,\n",
       "         2.38119606e-02,  1.10539282e-02, -8.61877650e-02, -4.47892286e-02,\n",
       "         1.36095583e-02,  1.23975156e-02,  4.59910147e-02,  2.83032972e-02,\n",
       "        -3.60220373e-02, -6.65582763e-03,  7.48839974e-02, -2.75155306e-02,\n",
       "        -6.91558346e-02, -8.05636495e-02, -5.57269864e-02, -2.30131717e-03,\n",
       "         5.63913118e-03,  2.67179050e-02, -1.46744866e-02,  1.93473957e-02,\n",
       "         2.44201217e-02, -1.68654732e-02, -1.35996258e-02, -7.92381261e-03,\n",
       "         1.35533158e-02, -2.22112220e-02,  5.64066209e-02,  1.46779912e-02,\n",
       "         1.47477146e-02,  4.41096202e-02,  3.20942253e-02,  2.94905598e-03,\n",
       "         5.19586653e-02, -2.46081389e-02,  7.83361960e-03,  5.82590327e-02,\n",
       "        -4.47468087e-02,  2.63241250e-02, -1.70853063e-02, -4.01037149e-02,\n",
       "         9.98974498e-03, -6.83410540e-02,  1.58622134e-02, -2.24142423e-04,\n",
       "         1.56242419e-02,  1.27901034e-02,  8.48050788e-03,  1.03629818e-02,\n",
       "         1.10271340e-02, -6.42360598e-02,  1.15626687e-02, -1.05964895e-02,\n",
       "        -3.23881693e-02, -3.17420028e-02,  2.10059993e-02,  2.96059158e-02,\n",
       "        -1.89502072e-02,  1.59787703e-02,  4.37157741e-03, -6.54939413e-02,\n",
       "         1.45102134e-02,  1.30061833e-02, -7.68060833e-02,  2.42613200e-02,\n",
       "         8.07003677e-03,  2.18430720e-02,  3.21792462e-03,  3.78349312e-02,\n",
       "         1.35631589e-02,  3.28821689e-02, -4.36784998e-02, -5.10297008e-02,\n",
       "         5.66673949e-02, -7.22280890e-03, -4.05492820e-02,  1.01840300e-02,\n",
       "         8.95372629e-02, -5.57636237e-03,  2.36441125e-03, -3.95178646e-02,\n",
       "         3.72108221e-02,  7.67654553e-02, -1.33952564e-02,  5.75002469e-02,\n",
       "        -3.42873335e-02, -6.00235909e-02, -4.04545665e-02,  9.90056526e-03,\n",
       "         1.57351457e-02, -2.05312222e-02, -1.62658263e-02, -1.87185518e-02,\n",
       "         1.89637598e-02,  3.69261466e-02,  4.18725163e-02, -5.19771427e-02,\n",
       "         1.96977165e-02, -7.42742792e-02, -1.55893881e-02,  1.83664504e-02,\n",
       "        -5.04414402e-02,  1.94480717e-02, -2.43192073e-02, -2.36936435e-02,\n",
       "         1.32596763e-02,  2.24672258e-03, -7.26631423e-03, -7.41841644e-03,\n",
       "         5.84005676e-02, -5.19236326e-02, -1.70012210e-02,  7.76689276e-02,\n",
       "         2.79750340e-02,  1.03083607e-02,  1.21569009e-02, -3.26564047e-03,\n",
       "         5.39143831e-02,  5.35339564e-02, -9.81250592e-03, -3.35500613e-02,\n",
       "         8.03017709e-03,  4.42978032e-02, -1.36548102e-01, -1.73656363e-02,\n",
       "         1.92285106e-02,  2.69655790e-02, -1.67271774e-02, -5.11714295e-02,\n",
       "         2.36177482e-02, -4.03310843e-02, -5.46047091e-02,  1.41006790e-03,\n",
       "        -3.11950333e-02,  1.60100516e-02,  3.19606885e-02, -4.78651598e-02,\n",
       "        -4.36331555e-02, -2.40912009e-03,  3.93437967e-02, -3.27617563e-02,\n",
       "        -7.04023661e-03, -4.99914289e-02, -3.64515223e-02, -9.12624877e-03,\n",
       "        -3.28301378e-02, -4.56675095e-03,  8.53538571e-04, -1.46851940e-02,\n",
       "         8.39741714e-03, -7.47385388e-03, -5.89105971e-02, -3.36840041e-02,\n",
       "        -3.64486612e-02, -2.15531718e-02, -2.75142044e-02,  4.60468195e-02,\n",
       "        -2.52471901e-02, -3.18914838e-02,  3.01961210e-02, -5.17063122e-03,\n",
       "        -4.90293615e-02, -2.81318147e-02, -9.78946779e-03, -2.50745788e-02,\n",
       "         2.64935493e-02, -8.50854907e-04, -3.44684557e-03,  1.31422235e-02,\n",
       "        -2.10881084e-02, -1.83839668e-02,  4.83903736e-02, -4.50755879e-02,\n",
       "         5.47474287e-02, -5.34283463e-03,  6.58035502e-02,  1.15299993e-03,\n",
       "         3.21526267e-02, -4.92719822e-02, -4.41439077e-02,  1.03723899e-01,\n",
       "        -9.45644602e-02,  1.61106475e-02, -5.33448113e-03,  5.79679869e-02,\n",
       "         6.32329937e-03, -1.95595790e-02,  8.60036239e-02, -2.43391525e-02,\n",
       "        -1.33262146e-02, -2.35573412e-03,  3.32071669e-02,  2.24463753e-02,\n",
       "        -2.32429616e-03,  5.00219222e-03,  3.81907672e-02, -1.65150706e-02,\n",
       "        -4.07109782e-02,  5.60523570e-02, -1.43291969e-02, -4.79913164e-33,\n",
       "        -8.86586402e-03,  9.94852465e-03,  5.52042052e-02, -1.79271623e-02,\n",
       "        -3.38039803e-03, -4.88438550e-03,  4.60276753e-03, -6.67033121e-02,\n",
       "        -4.50582914e-02,  1.96982529e-02, -4.95774969e-02,  1.37573574e-02,\n",
       "         2.52282117e-02,  6.71933219e-02, -9.83293131e-02,  2.65654176e-02,\n",
       "         4.53396179e-02,  4.16788533e-02, -8.34814098e-04, -4.88818297e-03,\n",
       "        -4.44914550e-02, -8.98336619e-03,  2.12435946e-02,  2.22021174e-02,\n",
       "        -5.51555417e-02, -1.19333891e-02, -4.95308498e-03, -4.89899283e-03,\n",
       "        -1.24623282e-02, -2.81208777e-03, -6.59894496e-02,  2.04036143e-02,\n",
       "        -6.48183888e-03,  1.79155152e-02,  3.90860997e-02,  5.04592098e-02,\n",
       "         3.25005390e-02,  5.35329580e-02,  3.21952663e-02,  6.58753067e-02,\n",
       "         3.32692750e-02, -6.05648495e-02,  4.98146787e-02,  9.72795673e-03,\n",
       "        -2.92198616e-03, -4.59308587e-02,  2.80402992e-02, -5.37208170e-02,\n",
       "        -5.11283837e-02, -5.52566014e-02, -2.80219223e-02,  2.79727150e-02,\n",
       "         5.14147878e-02,  1.51558630e-02, -8.37224908e-03,  3.01228259e-02,\n",
       "        -2.31421161e-02, -4.10612002e-02, -2.86682062e-02, -1.00063896e-02,\n",
       "        -7.73569942e-02,  7.87801147e-02,  4.07332145e-02,  2.93385852e-02,\n",
       "         1.10989548e-02, -1.25322537e-02, -3.34443385e-03,  5.00996975e-05,\n",
       "         1.91424098e-02,  2.11845674e-02,  6.40455037e-02, -1.84762329e-02,\n",
       "        -9.37781706e-02,  2.45300923e-02, -1.14315366e-02, -4.95654158e-02,\n",
       "        -1.39798457e-02, -2.48772185e-02, -7.64041841e-02, -1.30753396e-02,\n",
       "         3.29329148e-02, -1.88709684e-02, -3.13821733e-02, -5.74866496e-03,\n",
       "        -4.22279574e-02,  2.19336674e-02,  2.15799045e-02, -1.10086342e-02,\n",
       "        -5.38880751e-03,  2.91372240e-02, -1.89922415e-02,  2.72227041e-02,\n",
       "        -2.97752749e-02,  2.50246413e-02,  7.76250884e-02, -5.98797901e-03,\n",
       "         6.37729792e-03,  2.14895476e-02, -2.43247896e-02,  1.18072312e-02,\n",
       "         1.07706909e-03, -6.42951429e-02, -4.18991596e-03,  3.81198376e-02,\n",
       "        -4.55912389e-02,  9.81383608e-04, -5.44958338e-02,  2.09316541e-03,\n",
       "         3.77085689e-03, -1.63648725e-02, -4.22645696e-02, -2.69837454e-02,\n",
       "        -1.64091159e-02,  4.97910157e-02,  2.17284933e-02,  3.44683900e-02,\n",
       "        -4.63970043e-02,  4.62409072e-02, -2.89529264e-02,  1.91249885e-02,\n",
       "        -1.20314127e-02, -4.57263440e-02, -4.37673851e-04,  1.81575324e-02,\n",
       "         2.46767490e-03,  1.23151531e-03, -6.23539276e-02,  8.35347979e-04,\n",
       "        -4.52530943e-02, -2.47415211e-02, -1.21187244e-03,  3.26633640e-02,\n",
       "         2.63296897e-07, -1.38532175e-02,  4.18112502e-02, -5.70212081e-02,\n",
       "        -4.64931726e-02, -8.24032277e-02, -2.37904731e-02,  4.05155867e-02,\n",
       "        -6.93882778e-02,  6.66747764e-02, -1.98662207e-02,  2.00267099e-02,\n",
       "         5.61926961e-02,  7.61559512e-03, -6.75621955e-03,  3.93375345e-02,\n",
       "        -7.58117437e-02, -4.59057745e-03,  8.50070119e-02,  2.12058723e-02,\n",
       "         2.61703916e-02,  1.48577876e-02,  3.91667299e-02,  3.81798074e-02,\n",
       "         5.68817463e-03,  3.52556743e-02,  1.35010295e-02, -9.27198865e-03,\n",
       "         2.63618305e-02, -7.76017457e-02, -3.78220268e-02, -4.92422236e-03,\n",
       "         5.10413460e-02,  7.58720469e-03,  2.50164401e-02,  1.95401926e-02,\n",
       "        -3.31228320e-03, -2.29837000e-02,  7.30094016e-02,  3.33905257e-02,\n",
       "        -1.58120561e-02, -4.95513575e-03,  1.69490948e-02,  7.85504002e-03,\n",
       "         2.43865103e-02, -1.18821701e-02,  5.55035472e-02, -3.20884846e-02,\n",
       "         1.58890858e-02, -4.05331366e-02, -8.08354560e-03, -2.14535631e-02,\n",
       "         4.62051742e-02, -6.72022440e-03,  5.13230152e-02,  2.77608801e-02,\n",
       "        -5.76271638e-02, -5.02963066e-02,  3.03476769e-02, -3.71087119e-02,\n",
       "        -3.47245531e-03, -6.06251545e-02, -3.92839313e-02, -1.82962976e-03,\n",
       "         2.96252985e-02,  9.86163225e-03,  2.39991397e-02, -6.14768937e-02,\n",
       "         2.34618479e-34,  1.78671200e-02,  2.45031547e-02,  5.46603613e-02,\n",
       "         5.47417905e-03,  8.32170993e-03,  4.89881299e-02, -1.72489490e-02,\n",
       "        -8.54667928e-03,  7.05005717e-04, -4.29816544e-02,  2.75113117e-02],\n",
       "       dtype=float32)}"
      ]
     },
     "execution_count": 48,
     "metadata": {},
     "output_type": "execute_result"
    }
   ],
   "source": [
    "record_list[0]\n",
    "\n",
    "# verifying - data is in key-value pair"
   ]
  },
  {
   "cell_type": "code",
   "execution_count": 49,
   "metadata": {},
   "outputs": [],
   "source": [
    "#  indexing/ingesting all the data into the created laptop_products- index\n",
    "\n",
    "for record in record_list:\n",
    "    try:\n",
    "        es.index(index=\"laptop_products\", document=record)  # if we have prodcut_Id in data we will use that id  as (,id = record[\"ID\"]) \n",
    "                                                            # bt we don't have so we will leave it, so elASTIC sEARECH WILL  assign and ID to each Document/record\n",
    "    except Exception as e:\n",
    "        print(e)"
   ]
  },
  {
   "cell_type": "code",
   "execution_count": 50,
   "metadata": {},
   "outputs": [
    {
     "data": {
      "text/plain": [
       "ObjectApiResponse({'count': 599, '_shards': {'total': 1, 'successful': 1, 'skipped': 0, 'failed': 0}})"
      ]
     },
     "execution_count": 50,
     "metadata": {},
     "output_type": "execute_result"
    }
   ],
   "source": [
    "es.count(index=\"laptop_products\")\n",
    "\n",
    "# checking how many data are injested in index-elastic search ( we get 599 ie 600 documnet/record)\n"
   ]
  },
  {
   "cell_type": "markdown",
   "metadata": {},
   "source": [
    "## **Search Data**"
   ]
  },
  {
   "cell_type": "code",
   "execution_count": 66,
   "metadata": {},
   "outputs": [
    {
     "name": "stderr",
     "output_type": "stream",
     "text": [
      "C:\\Users\\acer\\AppData\\Local\\Temp\\ipykernel_9412\\3544152129.py:10: ElasticsearchWarning: The kNN search API has been replaced by the `knn` option in the search API.\n",
      "  result = es.knn_search(index=\"laptop_products\", knn=query, source=[\"link\", \"product_title\", \"price\"])\n"
     ]
    },
    {
     "data": {
      "text/plain": [
       "[{'_index': 'laptop_products',\n",
       "  '_id': 'vaXiYJIBbAfGhzRatMN2',\n",
       "  '_score': 0.45482057,\n",
       "  '_source': {'link': 'https://www.daraz.com.np/products/apple-macbook-air-13-inch-m1-256gb-oliz-store-i106600811.html',\n",
       "   'product_title': 'Apple MacBook Air 13-inch M1 256GB - Oliz Store',\n",
       "   'price': 'Rs. 109,900'}},\n",
       " {'_index': 'laptop_products',\n",
       "  '_id': '5aXiYJIBbAfGhzRaucOq',\n",
       "  '_score': 0.45482057,\n",
       "  '_source': {'link': 'https://www.daraz.com.np/products/apple-macbook-air-13-inch-m1-256gb-oliz-store-i106600811.html',\n",
       "   'product_title': 'Apple MacBook Air 13-inch M1 256GB - Oliz Store',\n",
       "   'price': 'Rs. 109,900'}}]"
      ]
     },
     "execution_count": 66,
     "metadata": {},
     "output_type": "execute_result"
    }
   ],
   "source": [
    "input_key = \"mac\"\n",
    "vector_of_input_key = model.encode(input_key)\n",
    "query = {\n",
    "    \"field\" : \"DecriptionVector\",\n",
    "    \"query_vector\" : vector_of_input_key,\n",
    "    \"k\" : 2,\n",
    "    \"num_candidates\" : 600 , \n",
    "}\n",
    "\n",
    "result = es.knn_search(index=\"laptop_products\", knn=query, source=[\"link\", \"product_title\", \"price\"])\n",
    "# return the JSON - taking only  field oonly not all\n",
    "\n",
    "result[\"hits\"][\"hits\"]\n",
    "\n"
   ]
  },
  {
   "cell_type": "code",
   "execution_count": null,
   "metadata": {},
   "outputs": [],
   "source": []
  }
 ],
 "metadata": {
  "kernelspec": {
   "display_name": "elastic_venv",
   "language": "python",
   "name": "python3"
  },
  "language_info": {
   "codemirror_mode": {
    "name": "ipython",
    "version": 3
   },
   "file_extension": ".py",
   "mimetype": "text/x-python",
   "name": "python",
   "nbconvert_exporter": "python",
   "pygments_lexer": "ipython3",
   "version": "3.12.0"
  }
 },
 "nbformat": 4,
 "nbformat_minor": 2
}
